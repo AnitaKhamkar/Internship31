{
 "cells": [
  {
   "cell_type": "markdown",
   "id": "2700575b",
   "metadata": {},
   "source": [
    "So, in this notebook we will scrape data from naukri.com website for Data-Scientist job role and Delhi location. We will scrape 4 fields for each job. 1. title of the job 2. Name of the company 3. Location 4.Exprience required"
   ]
  },
  {
   "cell_type": "markdown",
   "id": "e4ba45f5",
   "metadata": {},
   "source": [
    "Let me show all these fields on the naukari.com website"
   ]
  },
  {
   "cell_type": "code",
   "execution_count": 1,
   "id": "360fb836",
   "metadata": {},
   "outputs": [
    {
     "name": "stdout",
     "output_type": "stream",
     "text": [
      "Requirement already satisfied: selenium in c:\\users\\dell\\anaconda3\\lib\\site-packages (4.1.5)\n",
      "Requirement already satisfied: trio~=0.17 in c:\\users\\dell\\anaconda3\\lib\\site-packages (from selenium) (0.20.0)\n",
      "Requirement already satisfied: trio-websocket~=0.9 in c:\\users\\dell\\anaconda3\\lib\\site-packages (from selenium) (0.9.2)\n",
      "Requirement already satisfied: urllib3[secure,socks]~=1.26 in c:\\users\\dell\\anaconda3\\lib\\site-packages (from selenium) (1.26.7)\n",
      "Requirement already satisfied: outcome in c:\\users\\dell\\anaconda3\\lib\\site-packages (from trio~=0.17->selenium) (1.1.0)\n",
      "Requirement already satisfied: async-generator>=1.9 in c:\\users\\dell\\anaconda3\\lib\\site-packages (from trio~=0.17->selenium) (1.10)\n",
      "Requirement already satisfied: idna in c:\\users\\dell\\anaconda3\\lib\\site-packages (from trio~=0.17->selenium) (3.2)\n",
      "Requirement already satisfied: sortedcontainers in c:\\users\\dell\\anaconda3\\lib\\site-packages (from trio~=0.17->selenium) (2.4.0)\n",
      "Requirement already satisfied: attrs>=19.2.0 in c:\\users\\dell\\anaconda3\\lib\\site-packages (from trio~=0.17->selenium) (21.2.0)\n",
      "Requirement already satisfied: sniffio in c:\\users\\dell\\anaconda3\\lib\\site-packages (from trio~=0.17->selenium) (1.2.0)\n",
      "Requirement already satisfied: cffi>=1.14 in c:\\users\\dell\\anaconda3\\lib\\site-packages (from trio~=0.17->selenium) (1.14.6)\n",
      "Requirement already satisfied: wsproto>=0.14 in c:\\users\\dell\\anaconda3\\lib\\site-packages (from trio-websocket~=0.9->selenium) (1.1.0)\n",
      "Requirement already satisfied: PySocks!=1.5.7,<2.0,>=1.5.6 in c:\\users\\dell\\anaconda3\\lib\\site-packages (from urllib3[secure,socks]~=1.26->selenium) (1.7.1)\n",
      "Requirement already satisfied: pyOpenSSL>=0.14 in c:\\users\\dell\\anaconda3\\lib\\site-packages (from urllib3[secure,socks]~=1.26->selenium) (21.0.0)\n",
      "Requirement already satisfied: cryptography>=1.3.4 in c:\\users\\dell\\anaconda3\\lib\\site-packages (from urllib3[secure,socks]~=1.26->selenium) (3.4.8)\n",
      "Requirement already satisfied: certifi in c:\\users\\dell\\anaconda3\\lib\\site-packages (from urllib3[secure,socks]~=1.26->selenium) (2021.10.8)\n",
      "Requirement already satisfied: pycparser in c:\\users\\dell\\anaconda3\\lib\\site-packages (from cffi>=1.14->trio~=0.17->selenium) (2.20)\n",
      "Requirement already satisfied: six>=1.5.2 in c:\\users\\dell\\anaconda3\\lib\\site-packages (from pyOpenSSL>=0.14->urllib3[secure,socks]~=1.26->selenium) (1.16.0)\n",
      "Requirement already satisfied: h11<1,>=0.9.0 in c:\\users\\dell\\anaconda3\\lib\\site-packages (from wsproto>=0.14->trio-websocket~=0.9->selenium) (0.13.0)\n"
     ]
    }
   ],
   "source": [
    "# Lets first install the selenium library\n",
    "!pip install selenium"
   ]
  },
  {
   "cell_type": "markdown",
   "id": "686d4e5f",
   "metadata": {},
   "source": [
    "Now we will download the webdriver for the web browser. The steps for downloading the web driver for your browser are:"
   ]
  },
  {
   "cell_type": "markdown",
   "id": "ffdafb7f",
   "metadata": {},
   "source": [
    " 1. check the version of your browser.\n",
    " \n",
    " 2. Go to the link- chromedriver.chromium.org/downloads\n",
    " \n",
    " 3. Download the web driver for your version of browser"
   ]
  },
  {
   "cell_type": "markdown",
   "id": "9266144d",
   "metadata": {},
   "source": [
    "now these steps are for chrome broweser. The download link will be different mozilla etc."
   ]
  },
  {
   "cell_type": "code",
   "execution_count": 2,
   "id": "44eda181",
   "metadata": {},
   "outputs": [],
   "source": [
    "# lets now import all the required libraberies\n",
    "import selenium                    #libraberies that is used to work with selenium\n",
    "import pandas as pd                #to create dataframe\n",
    "from selenium import webdriver     #importing webdriver module from selenium to open up automated chrome window\n",
    "import warnings                    #to ignore any sort of warning\n",
    "warnings.filterwarnings(\"ignore\")\n",
    "import time                        #use to stop search engine for few seconds"
   ]
  },
  {
   "cell_type": "code",
   "execution_count": 3,
   "id": "ea8055a9",
   "metadata": {},
   "outputs": [],
   "source": [
    "#Lets first connect to the web driver\n",
    "driver=webdriver.Chrome(r\"C:\\Webbrowser\\chromedriver.exe\")"
   ]
  },
  {
   "cell_type": "code",
   "execution_count": 4,
   "id": "c596f835",
   "metadata": {},
   "outputs": [],
   "source": [
    "driver=webdriver.Chrome(\"chromedriver.exe\")\n",
    "time.sleep(2)"
   ]
  },
  {
   "cell_type": "code",
   "execution_count": 5,
   "id": "6130121e",
   "metadata": {},
   "outputs": [],
   "source": [
    "#to close automated chrome window\n",
    "#driver.close()"
   ]
  },
  {
   "cell_type": "code",
   "execution_count": 6,
   "id": "fbca784b",
   "metadata": {},
   "outputs": [],
   "source": [
    "#opening up naukri.com website on automated chrome window\n",
    "driver.get('https://www.naukri.com/')"
   ]
  },
  {
   "cell_type": "code",
   "execution_count": 7,
   "id": "dc03dea9",
   "metadata": {},
   "outputs": [],
   "source": [
    "# finding element for job search bar\n",
    "search_field_designation=driver.find_element_by_class_name(\"suggestor-input\") # job search bar\n",
    "search_field_designation.send_keys(\"Data Scientist\")"
   ]
  },
  {
   "cell_type": "code",
   "execution_count": 8,
   "id": "135202c5",
   "metadata": {},
   "outputs": [],
   "source": [
    "#entering location Delhi in location search bar\n",
    "#search_field_designation= driver.find_element_by_class_name(\"suggestor-input\") #job search bar\n",
    "#search_field_designation.send_keys(\"Delhi\")"
   ]
  },
  {
   "cell_type": "code",
   "execution_count": 9,
   "id": "0444f2c5",
   "metadata": {},
   "outputs": [],
   "source": [
    "search_field_location=driver.find_element_by_xpath('/html/body/div/div[2]/div[3]/div/div/div[3]/div/div/div/input')\n",
    "search_field_location.send_keys(\"Delhi\")"
   ]
  },
  {
   "cell_type": "code",
   "execution_count": 10,
   "id": "e30f1791",
   "metadata": {},
   "outputs": [],
   "source": [
    "#clicking on search button\n",
    "search_button=driver.find_element_by_xpath(\"/html/body/div/div[2]/div[3]/div/div/div[6]\")\n",
    "search_button.click()"
   ]
  },
  {
   "cell_type": "markdown",
   "id": "e22278aa",
   "metadata": {},
   "source": [
    "Now we will see in the window opened by webdriver whether the webpage has opened or not. lets check it."
   ]
  },
  {
   "cell_type": "markdown",
   "id": "1e4ffc9c",
   "metadata": {},
   "source": [
    "So, Now lets firsts create 4 empty lists. In these lists the data will be stored while scraping. We have created 4 empty lists for 4 features which we have to extract "
   ]
  },
  {
   "cell_type": "markdown",
   "id": "19c3ce41",
   "metadata": {},
   "source": [
    "1.  job_title \n",
    "\n",
    "2.  Company Names\n",
    "\n",
    "3.  location_list\n",
    "\n",
    "4.  experience_list"
   ]
  },
  {
   "cell_type": "code",
   "execution_count": 11,
   "id": "2d1ae14f",
   "metadata": {},
   "outputs": [],
   "source": [
    "job_titles=[]\n",
    "company_names=[]\n",
    "location_list=[]\n",
    "experience_list=[]"
   ]
  },
  {
   "cell_type": "markdown",
   "id": "deaee6c5",
   "metadata": {},
   "source": [
    "First, we will extract all the tags where we have the job titles. Let me first show you on the webpage in which tags the job titles are put"
   ]
  },
  {
   "cell_type": "code",
   "execution_count": 12,
   "id": "048e8f0c",
   "metadata": {},
   "outputs": [
    {
     "data": {
      "text/plain": [
       "[<selenium.webdriver.remote.webelement.WebElement (session=\"3c3fea74dabec40efc40b8bcb7738208\", element=\"13b85acb-3970-404c-88ab-828d4f432a2b\")>,\n",
       " <selenium.webdriver.remote.webelement.WebElement (session=\"3c3fea74dabec40efc40b8bcb7738208\", element=\"289bd674-8080-4c4c-9b94-39745283f345\")>,\n",
       " <selenium.webdriver.remote.webelement.WebElement (session=\"3c3fea74dabec40efc40b8bcb7738208\", element=\"19a4a403-90b0-4929-929b-344347d98bc8\")>,\n",
       " <selenium.webdriver.remote.webelement.WebElement (session=\"3c3fea74dabec40efc40b8bcb7738208\", element=\"ca31ff0d-eabf-4aa6-9054-7ac2ab4e66f0\")>]"
      ]
     },
     "execution_count": 12,
     "metadata": {},
     "output_type": "execute_result"
    }
   ],
   "source": [
    "#So lets extract all the tags having the job-titles\n",
    "title_tags=driver.find_elements_by_xpath(\"//a[@class='title fw500 ellipsis']\") #locating web element of title\n",
    "title_tags[0:4] #using the range to print only top 4 results\n"
   ]
  },
  {
   "cell_type": "markdown",
   "id": "4e254e59",
   "metadata": {},
   "source": [
    "Now we have all the tags in which there are the job titles."
   ]
  },
  {
   "cell_type": "markdown",
   "id": "a7db9330",
   "metadata": {},
   "source": [
    "Now we will extract the text from these tags one by one by looping over these tags"
   ]
  },
  {
   "cell_type": "code",
   "execution_count": 13,
   "id": "a84f47af",
   "metadata": {},
   "outputs": [
    {
     "data": {
      "text/plain": [
       "['Data Scientist Opportunity with PayU - Diversity Hiring',\n",
       " 'Assistant Manager/Manager/Senior Manager - Data Scientist',\n",
       " 'Data Scientist (Risk / Fraud Experience is must)',\n",
       " 'Data Scientist - Python/Machine Learning']"
      ]
     },
     "execution_count": 13,
     "metadata": {},
     "output_type": "execute_result"
    }
   ],
   "source": [
    "# Now the text of the job title is inside the tags extracted above.\n",
    "\n",
    "#so we will run a loop to iterate over the tags extracted above and extract the text inside them.\n",
    "\n",
    "for i in title_tags:\n",
    "    title=i.text\n",
    "    job_titles.append(title)\n",
    "job_titles[0:4]"
   ]
  },
  {
   "cell_type": "markdown",
   "id": "efb64f84",
   "metadata": {},
   "source": [
    "Now we will extract all the html tags where we have the comapny names. Let me first show you in which tag the company names are put on the webpage."
   ]
  },
  {
   "cell_type": "code",
   "execution_count": 14,
   "id": "c3408feb",
   "metadata": {},
   "outputs": [
    {
     "data": {
      "text/plain": [
       "[<selenium.webdriver.remote.webelement.WebElement (session=\"3c3fea74dabec40efc40b8bcb7738208\", element=\"6775c03c-a5b9-4dff-b553-cf22c75e8ef8\")>,\n",
       " <selenium.webdriver.remote.webelement.WebElement (session=\"3c3fea74dabec40efc40b8bcb7738208\", element=\"6610649f-9ed7-4339-9041-2f4d676f9df9\")>,\n",
       " <selenium.webdriver.remote.webelement.WebElement (session=\"3c3fea74dabec40efc40b8bcb7738208\", element=\"037c0c50-4dfd-4dcb-b9ee-43dbbad82352\")>,\n",
       " <selenium.webdriver.remote.webelement.WebElement (session=\"3c3fea74dabec40efc40b8bcb7738208\", element=\"f9b618da-eaa8-447c-ad9f-fac18d85eb7d\")>]"
      ]
     },
     "execution_count": 14,
     "metadata": {},
     "output_type": "execute_result"
    }
   ],
   "source": [
    "#so lets extract all the tags having the company names\n",
    "companies_tags=driver.find_elements_by_xpath(\"//a[@class='subTitle ellipsis fleft']\")#locating web element of company name\n",
    "companies_tags[0:4]"
   ]
  },
  {
   "cell_type": "markdown",
   "id": "9f8d9f18",
   "metadata": {},
   "source": [
    "Now we have all the tags in which there are the company names."
   ]
  },
  {
   "cell_type": "markdown",
   "id": "b17918f7",
   "metadata": {},
   "source": [
    "Now we will extract the text from these tags one by one by looping over these tags"
   ]
  },
  {
   "cell_type": "code",
   "execution_count": 15,
   "id": "c52b3615",
   "metadata": {},
   "outputs": [
    {
     "data": {
      "text/plain": [
       "['PayU',\n",
       " 'Huquo Consulting Pvt. Ltd',\n",
       " 'PayU Payments',\n",
       " 'Corner Tree Consulting']"
      ]
     },
     "execution_count": 15,
     "metadata": {},
     "output_type": "execute_result"
    }
   ],
   "source": [
    "company_names=[]\n",
    "for i in companies_tags:               #ieterating over web element of company name\n",
    "    company_name=i.text               #extracting text from each web element \n",
    "#    print(company_name)\n",
    "    company_names.append(company_name) #appending each extected text into empty list\n",
    "company_names[0:4]                     #printing top 4 results  "
   ]
  },
  {
   "cell_type": "markdown",
   "id": "f3c6a28a",
   "metadata": {},
   "source": [
    "Now we will extract all the html tags where we have the experience required data. Let me first show you in which tags this data is put on the webpage"
   ]
  },
  {
   "cell_type": "code",
   "execution_count": 16,
   "id": "0c7f9246",
   "metadata": {},
   "outputs": [
    {
     "data": {
      "text/plain": [
       "[<selenium.webdriver.remote.webelement.WebElement (session=\"3c3fea74dabec40efc40b8bcb7738208\", element=\"b5ec7a4b-1d6e-4439-9aec-fc7aa566f5a1\")>,\n",
       " <selenium.webdriver.remote.webelement.WebElement (session=\"3c3fea74dabec40efc40b8bcb7738208\", element=\"63365ca8-914b-49ca-885a-0b6ea519eabc\")>,\n",
       " <selenium.webdriver.remote.webelement.WebElement (session=\"3c3fea74dabec40efc40b8bcb7738208\", element=\"9fbea657-39a3-47d1-8842-c6d338eaf6f5\")>,\n",
       " <selenium.webdriver.remote.webelement.WebElement (session=\"3c3fea74dabec40efc40b8bcb7738208\", element=\"9b4e9d75-abf7-4a67-9f07-df1244872c98\")>]"
      ]
     },
     "execution_count": 16,
     "metadata": {},
     "output_type": "execute_result"
    }
   ],
   "source": [
    "# so lets extract all the tags having the experiene required data\n",
    "experiance_tags=driver.find_elements_by_xpath(\"//li[@class='fleft grey-text br2 placeHolderLi experience']/span\")\n",
    "experiance_tags[0:4]"
   ]
  },
  {
   "cell_type": "code",
   "execution_count": 17,
   "id": "d43e207a",
   "metadata": {},
   "outputs": [
    {
     "data": {
      "text/plain": [
       "['2-7 Yrs', '2-7 Yrs', '2-5 Yrs', '10-14 Yrs']"
      ]
     },
     "execution_count": 17,
     "metadata": {},
     "output_type": "execute_result"
    }
   ],
   "source": [
    "experiance_yrs=[]\n",
    "for i in experiance_tags:               #ieterating over web element of company name\n",
    "    experiance=i.text               #extracting text from each web element \n",
    "#    print(company_name)\n",
    "    experiance_yrs.append(experiance) #appending each extected text into empty list\n",
    "experiance_yrs[0:4]\n",
    "\n"
   ]
  },
  {
   "cell_type": "code",
   "execution_count": 18,
   "id": "09d452ff",
   "metadata": {},
   "outputs": [
    {
     "data": {
      "text/plain": [
       "[<selenium.webdriver.remote.webelement.WebElement (session=\"3c3fea74dabec40efc40b8bcb7738208\", element=\"4fda5f23-cb87-471d-8f26-00bb317d10ec\")>,\n",
       " <selenium.webdriver.remote.webelement.WebElement (session=\"3c3fea74dabec40efc40b8bcb7738208\", element=\"ad41c83d-4572-4371-abf0-97d232a67073\")>,\n",
       " <selenium.webdriver.remote.webelement.WebElement (session=\"3c3fea74dabec40efc40b8bcb7738208\", element=\"bb9921ed-4d67-4b19-94fb-848397ff77bd\")>,\n",
       " <selenium.webdriver.remote.webelement.WebElement (session=\"3c3fea74dabec40efc40b8bcb7738208\", element=\"8298afbc-aa07-4ea2-b9b7-f8551776ac94\")>]"
      ]
     },
     "execution_count": 18,
     "metadata": {},
     "output_type": "execute_result"
    }
   ],
   "source": [
    "location_tags=driver.find_elements_by_xpath(\"//li[@class='fleft grey-text br2 placeHolderLi location']\")\n",
    "location_tags[0:4]"
   ]
  },
  {
   "cell_type": "code",
   "execution_count": 19,
   "id": "0698d974",
   "metadata": {},
   "outputs": [
    {
     "name": "stdout",
     "output_type": "stream",
     "text": [
      "['Gurgaon/Gurugram, Bangalore/Bengaluru, Mumbai (All Areas)', 'Gurgaon/Gurugram, Bangalore/Bengaluru', 'Gurgaon/Gurugram', 'Mumbai, Pune, Chennai, Bangalore/Bengaluru, Delhi / NCR', 'Noida, Bangalore/Bengaluru', 'Gurgaon/Gurugram, Bangalore/Bengaluru', 'Noida', 'Gurgaon/Gurugram', 'Gurgaon/Gurugram', 'Noida, Mumbai, Pune, Bangalore/Bengaluru', 'New Delhi, Bangalore/Bengaluru, Mumbai (All Areas)\\n(WFH during Covid)', 'Gurgaon/Gurugram', 'Gurgaon/Gurugram', 'Gurgaon/Gurugram', 'Gurgaon/Gurugram', 'Gurgaon/Gurugram', 'Gurgaon/Gurugram', 'Gurgaon/Gurugram', 'Gurgaon/Gurugram', 'Bangalore/Bengaluru, Delhi / NCR, Mumbai (All Areas)']\n"
     ]
    },
    {
     "data": {
      "text/plain": [
       "20"
      ]
     },
     "execution_count": 19,
     "metadata": {},
     "output_type": "execute_result"
    }
   ],
   "source": [
    "locations=[]\n",
    "for i in location_tags:               #ieterating over web element of company name\n",
    "    location=i.text               #extracting text from each web element \n",
    "#    print(location)\n",
    "    locations.append(location) #appending each extected text into empty list\n",
    "locations[0:4]\n",
    "print(locations)\n",
    "len(locations)"
   ]
  },
  {
   "cell_type": "markdown",
   "id": "45321f8b",
   "metadata": {},
   "source": [
    "So, now we have extraced the data required from the webpage and stored them in the 4 list mentioned above. Now before creating a dataframe from these lists. Lets first check the each of the list. Because if the length of all of the list are not equal, then a dataframe cannot be formed."
   ]
  },
  {
   "cell_type": "code",
   "execution_count": 20,
   "id": "41650b4c",
   "metadata": {},
   "outputs": [
    {
     "name": "stdout",
     "output_type": "stream",
     "text": [
      "20 20 20 20\n"
     ]
    }
   ],
   "source": [
    "print(len(job_titles),len(company_names),len(experiance_yrs),len(locations))"
   ]
  },
  {
   "cell_type": "code",
   "execution_count": 21,
   "id": "9eae8ae9",
   "metadata": {},
   "outputs": [],
   "source": [
    "import pandas as pd\n",
    "jobs=pd.DataFrame({})\n",
    "jobs['titles']=job_titles\n",
    "jobs['company']=company_names\n",
    "jobs['experience_required']=experiance_yrs\n",
    "jobs['location']=locations"
   ]
  },
  {
   "cell_type": "code",
   "execution_count": 22,
   "id": "6a83dfb4",
   "metadata": {},
   "outputs": [
    {
     "data": {
      "text/html": [
       "<div>\n",
       "<style scoped>\n",
       "    .dataframe tbody tr th:only-of-type {\n",
       "        vertical-align: middle;\n",
       "    }\n",
       "\n",
       "    .dataframe tbody tr th {\n",
       "        vertical-align: top;\n",
       "    }\n",
       "\n",
       "    .dataframe thead th {\n",
       "        text-align: right;\n",
       "    }\n",
       "</style>\n",
       "<table border=\"1\" class=\"dataframe\">\n",
       "  <thead>\n",
       "    <tr style=\"text-align: right;\">\n",
       "      <th></th>\n",
       "      <th>titles</th>\n",
       "      <th>company</th>\n",
       "      <th>experience_required</th>\n",
       "      <th>location</th>\n",
       "    </tr>\n",
       "  </thead>\n",
       "  <tbody>\n",
       "    <tr>\n",
       "      <th>0</th>\n",
       "      <td>Data Scientist Opportunity with PayU - Diversi...</td>\n",
       "      <td>PayU</td>\n",
       "      <td>2-7 Yrs</td>\n",
       "      <td>Gurgaon/Gurugram, Bangalore/Bengaluru, Mumbai ...</td>\n",
       "    </tr>\n",
       "    <tr>\n",
       "      <th>1</th>\n",
       "      <td>Assistant Manager/Manager/Senior Manager - Dat...</td>\n",
       "      <td>Huquo Consulting Pvt. Ltd</td>\n",
       "      <td>2-7 Yrs</td>\n",
       "      <td>Gurgaon/Gurugram, Bangalore/Bengaluru</td>\n",
       "    </tr>\n",
       "    <tr>\n",
       "      <th>2</th>\n",
       "      <td>Data Scientist (Risk / Fraud Experience is must)</td>\n",
       "      <td>PayU Payments</td>\n",
       "      <td>2-5 Yrs</td>\n",
       "      <td>Gurgaon/Gurugram</td>\n",
       "    </tr>\n",
       "    <tr>\n",
       "      <th>3</th>\n",
       "      <td>Data Scientist - Python/Machine Learning</td>\n",
       "      <td>Corner Tree Consulting</td>\n",
       "      <td>10-14 Yrs</td>\n",
       "      <td>Mumbai, Pune, Chennai, Bangalore/Bengaluru, De...</td>\n",
       "    </tr>\n",
       "    <tr>\n",
       "      <th>4</th>\n",
       "      <td>Data Scientist</td>\n",
       "      <td>Ashkom Media India Private Limited</td>\n",
       "      <td>3-6 Yrs</td>\n",
       "      <td>Noida, Bangalore/Bengaluru</td>\n",
       "    </tr>\n",
       "    <tr>\n",
       "      <th>5</th>\n",
       "      <td>Data Scientist</td>\n",
       "      <td>Green Agrevolution Pvt. Ltd. (DeHaat)</td>\n",
       "      <td>4-9 Yrs</td>\n",
       "      <td>Gurgaon/Gurugram, Bangalore/Bengaluru</td>\n",
       "    </tr>\n",
       "    <tr>\n",
       "      <th>6</th>\n",
       "      <td>Data Scientist</td>\n",
       "      <td>Master Mind Consultancy</td>\n",
       "      <td>4-9 Yrs</td>\n",
       "      <td>Noida</td>\n",
       "    </tr>\n",
       "    <tr>\n",
       "      <th>7</th>\n",
       "      <td>Data Scientist</td>\n",
       "      <td>Impetus</td>\n",
       "      <td>2-6 Yrs</td>\n",
       "      <td>Gurgaon/Gurugram</td>\n",
       "    </tr>\n",
       "    <tr>\n",
       "      <th>8</th>\n",
       "      <td>Associate Scientist- Data Science</td>\n",
       "      <td>AXA Technology Services India Pvt. Ltd</td>\n",
       "      <td>3-7 Yrs</td>\n",
       "      <td>Gurgaon/Gurugram</td>\n",
       "    </tr>\n",
       "    <tr>\n",
       "      <th>9</th>\n",
       "      <td>Data Scientist - Immediate Joiners</td>\n",
       "      <td>Bristlecone</td>\n",
       "      <td>5-8 Yrs</td>\n",
       "      <td>Noida, Mumbai, Pune, Bangalore/Bengaluru</td>\n",
       "    </tr>\n",
       "    <tr>\n",
       "      <th>10</th>\n",
       "      <td>Urgent Hiring For AI Data Scientist</td>\n",
       "      <td>Ashkom Media India Private Limited</td>\n",
       "      <td>1-4 Yrs</td>\n",
       "      <td>New Delhi, Bangalore/Bengaluru, Mumbai (All Ar...</td>\n",
       "    </tr>\n",
       "    <tr>\n",
       "      <th>11</th>\n",
       "      <td>Associate Data Scientist</td>\n",
       "      <td>Optum</td>\n",
       "      <td>1-5 Yrs</td>\n",
       "      <td>Gurgaon/Gurugram</td>\n",
       "    </tr>\n",
       "    <tr>\n",
       "      <th>12</th>\n",
       "      <td>AVP Data Scientist (credit and fraud risk mode...</td>\n",
       "      <td>SSJ Solutions</td>\n",
       "      <td>8-13 Yrs</td>\n",
       "      <td>Gurgaon/Gurugram</td>\n",
       "    </tr>\n",
       "    <tr>\n",
       "      <th>13</th>\n",
       "      <td>Data Scientist</td>\n",
       "      <td>Vrinda Global Private Limited</td>\n",
       "      <td>2-7 Yrs</td>\n",
       "      <td>Gurgaon/Gurugram</td>\n",
       "    </tr>\n",
       "    <tr>\n",
       "      <th>14</th>\n",
       "      <td>Associate Scientist - Data Engineering</td>\n",
       "      <td>AXA Technology Services India Pvt. Ltd</td>\n",
       "      <td>2-5 Yrs</td>\n",
       "      <td>Gurgaon/Gurugram</td>\n",
       "    </tr>\n",
       "    <tr>\n",
       "      <th>15</th>\n",
       "      <td>Snr Global Prgm Mngr &amp; Data Scientist</td>\n",
       "      <td>Orange Business Services India Technology Pvt Ltd</td>\n",
       "      <td>4-8 Yrs</td>\n",
       "      <td>Gurgaon/Gurugram</td>\n",
       "    </tr>\n",
       "    <tr>\n",
       "      <th>16</th>\n",
       "      <td>Snr Global Program Manager &amp; Data Scientist</td>\n",
       "      <td>Orange Business Services</td>\n",
       "      <td>7-12 Yrs</td>\n",
       "      <td>Gurgaon/Gurugram</td>\n",
       "    </tr>\n",
       "    <tr>\n",
       "      <th>17</th>\n",
       "      <td>Data Scientist</td>\n",
       "      <td>PTC</td>\n",
       "      <td>4-9 Yrs</td>\n",
       "      <td>Gurgaon/Gurugram</td>\n",
       "    </tr>\n",
       "    <tr>\n",
       "      <th>18</th>\n",
       "      <td>Data Scientist</td>\n",
       "      <td>Capgemini</td>\n",
       "      <td>2-5 Yrs</td>\n",
       "      <td>Gurgaon/Gurugram</td>\n",
       "    </tr>\n",
       "    <tr>\n",
       "      <th>19</th>\n",
       "      <td>Data Scientist</td>\n",
       "      <td>Jobs Territory</td>\n",
       "      <td>1-3 Yrs</td>\n",
       "      <td>Bangalore/Bengaluru, Delhi / NCR, Mumbai (All ...</td>\n",
       "    </tr>\n",
       "  </tbody>\n",
       "</table>\n",
       "</div>"
      ],
      "text/plain": [
       "                                               titles  \\\n",
       "0   Data Scientist Opportunity with PayU - Diversi...   \n",
       "1   Assistant Manager/Manager/Senior Manager - Dat...   \n",
       "2    Data Scientist (Risk / Fraud Experience is must)   \n",
       "3            Data Scientist - Python/Machine Learning   \n",
       "4                                      Data Scientist   \n",
       "5                                      Data Scientist   \n",
       "6                                      Data Scientist   \n",
       "7                                      Data Scientist   \n",
       "8                   Associate Scientist- Data Science   \n",
       "9                  Data Scientist - Immediate Joiners   \n",
       "10                Urgent Hiring For AI Data Scientist   \n",
       "11                           Associate Data Scientist   \n",
       "12  AVP Data Scientist (credit and fraud risk mode...   \n",
       "13                                     Data Scientist   \n",
       "14             Associate Scientist - Data Engineering   \n",
       "15              Snr Global Prgm Mngr & Data Scientist   \n",
       "16        Snr Global Program Manager & Data Scientist   \n",
       "17                                     Data Scientist   \n",
       "18                                     Data Scientist   \n",
       "19                                     Data Scientist   \n",
       "\n",
       "                                              company experience_required  \\\n",
       "0                                                PayU             2-7 Yrs   \n",
       "1                           Huquo Consulting Pvt. Ltd             2-7 Yrs   \n",
       "2                                       PayU Payments             2-5 Yrs   \n",
       "3                              Corner Tree Consulting           10-14 Yrs   \n",
       "4                  Ashkom Media India Private Limited             3-6 Yrs   \n",
       "5               Green Agrevolution Pvt. Ltd. (DeHaat)             4-9 Yrs   \n",
       "6                             Master Mind Consultancy             4-9 Yrs   \n",
       "7                                             Impetus             2-6 Yrs   \n",
       "8              AXA Technology Services India Pvt. Ltd             3-7 Yrs   \n",
       "9                                         Bristlecone             5-8 Yrs   \n",
       "10                 Ashkom Media India Private Limited             1-4 Yrs   \n",
       "11                                              Optum             1-5 Yrs   \n",
       "12                                      SSJ Solutions            8-13 Yrs   \n",
       "13                      Vrinda Global Private Limited             2-7 Yrs   \n",
       "14             AXA Technology Services India Pvt. Ltd             2-5 Yrs   \n",
       "15  Orange Business Services India Technology Pvt Ltd             4-8 Yrs   \n",
       "16                           Orange Business Services            7-12 Yrs   \n",
       "17                                                PTC             4-9 Yrs   \n",
       "18                                          Capgemini             2-5 Yrs   \n",
       "19                                     Jobs Territory             1-3 Yrs   \n",
       "\n",
       "                                             location  \n",
       "0   Gurgaon/Gurugram, Bangalore/Bengaluru, Mumbai ...  \n",
       "1               Gurgaon/Gurugram, Bangalore/Bengaluru  \n",
       "2                                    Gurgaon/Gurugram  \n",
       "3   Mumbai, Pune, Chennai, Bangalore/Bengaluru, De...  \n",
       "4                          Noida, Bangalore/Bengaluru  \n",
       "5               Gurgaon/Gurugram, Bangalore/Bengaluru  \n",
       "6                                               Noida  \n",
       "7                                    Gurgaon/Gurugram  \n",
       "8                                    Gurgaon/Gurugram  \n",
       "9            Noida, Mumbai, Pune, Bangalore/Bengaluru  \n",
       "10  New Delhi, Bangalore/Bengaluru, Mumbai (All Ar...  \n",
       "11                                   Gurgaon/Gurugram  \n",
       "12                                   Gurgaon/Gurugram  \n",
       "13                                   Gurgaon/Gurugram  \n",
       "14                                   Gurgaon/Gurugram  \n",
       "15                                   Gurgaon/Gurugram  \n",
       "16                                   Gurgaon/Gurugram  \n",
       "17                                   Gurgaon/Gurugram  \n",
       "18                                   Gurgaon/Gurugram  \n",
       "19  Bangalore/Bengaluru, Delhi / NCR, Mumbai (All ...  "
      ]
     },
     "execution_count": 22,
     "metadata": {},
     "output_type": "execute_result"
    }
   ],
   "source": [
    "jobs"
   ]
  },
  {
   "cell_type": "code",
   "execution_count": 23,
   "id": "b7a1f1f4",
   "metadata": {},
   "outputs": [
    {
     "data": {
      "text/plain": [
       "[<selenium.webdriver.remote.webelement.WebElement (session=\"3c3fea74dabec40efc40b8bcb7738208\", element=\"13b85acb-3970-404c-88ab-828d4f432a2b\")>,\n",
       " <selenium.webdriver.remote.webelement.WebElement (session=\"3c3fea74dabec40efc40b8bcb7738208\", element=\"289bd674-8080-4c4c-9b94-39745283f345\")>,\n",
       " <selenium.webdriver.remote.webelement.WebElement (session=\"3c3fea74dabec40efc40b8bcb7738208\", element=\"19a4a403-90b0-4929-929b-344347d98bc8\")>,\n",
       " <selenium.webdriver.remote.webelement.WebElement (session=\"3c3fea74dabec40efc40b8bcb7738208\", element=\"ca31ff0d-eabf-4aa6-9054-7ac2ab4e66f0\")>]"
      ]
     },
     "execution_count": 23,
     "metadata": {},
     "output_type": "execute_result"
    }
   ],
   "source": [
    "#code to fetch any url\n",
    "urls=driver.find_elements_by_xpath(\"//a[@class='title fw500 ellipsis']\")\n",
    "urls[0:4]"
   ]
  },
  {
   "cell_type": "code",
   "execution_count": 24,
   "id": "c1889c9b",
   "metadata": {},
   "outputs": [
    {
     "name": "stdout",
     "output_type": "stream",
     "text": [
      "https://www.naukri.com/job-listings-data-scientist-opportunity-with-payu-diversity-hiring-payu-payments-private-limited-gurgaon-gurugram-bangalore-bengaluru-mumbai-all-areas-2-to-7-years-060522009962?src=jobsearchDesk&sid=16520314597485280&xp=1&px=1\n",
      "https://www.naukri.com/job-listings-assistant-manager-manager-senior-manager-data-scientist-huquo-consulting-pvt-ltd-gurgaon-gurugram-bangalore-bengaluru-2-to-7-years-060522903456?src=jobsearchDesk&sid=16520314597485280&xp=2&px=1\n",
      "https://www.naukri.com/job-listings-data-scientist-risk-fraud-experience-is-must-payu-finance-india-private-limited-gurgaon-gurugram-2-to-5-years-060522007576?src=jobsearchDesk&sid=16520314597485280&xp=3&px=1\n",
      "https://www.naukri.com/job-listings-data-scientist-python-machine-learning-corner-tree-consulting-mumbai-pune-chennai-bangalore-bengaluru-delhi-ncr-10-to-14-years-060522909834?src=jobsearchDesk&sid=16520314597485280&xp=4&px=1\n"
     ]
    }
   ],
   "source": [
    "for i in urls[0:4]: #giving range to print only top 4 data\n",
    "    print(i.get_attribute('href')) #url is present inside herf attribute and herf attribute is present inside a tag\n"
   ]
  },
  {
   "cell_type": "code",
   "execution_count": 25,
   "id": "c5ad736a",
   "metadata": {},
   "outputs": [],
   "source": [
    "#code to click on nextf button\n",
    "next_button=driver.find_element_by_xpath(\"/html/body/div[1]/div[3]/div[2]/section[2]/div[3]/div/a[2]/span\")\n",
    "next_button.click()"
   ]
  },
  {
   "cell_type": "code",
   "execution_count": 30,
   "id": "b90144e2",
   "metadata": {},
   "outputs": [],
   "source": [
    "t_list=[] #Create empty list to store title\n",
    "for i in range(0,2): #running for loop with range to run this loop 2 times\n",
    "    title_tags=driver.find_elements_by_xpath(\"//a[@class='title fw500 ellipsis']\")  #locating web element of title\n",
    "    for i in title_tags:  #itrating over each web element of title\n",
    "        title=i.text          #fetching text from the web element\n",
    "        t_list.append(title)  #appending data(text) into the empty list\n",
    "    next_button=driver.find_element_by_xpath(\"/html/body/div[1]/div[3]/div[2]/section[2]/div[3]/div/a[2]/span\")\n",
    "    next_button.click()   #locating web element of next button and then clicking on next button\n",
    "    time.sleep(5)        #using time to pause the search enginer for 5 sec\n",
    "    \n",
    "    "
   ]
  },
  {
   "cell_type": "code",
   "execution_count": 32,
   "id": "671cdbca",
   "metadata": {},
   "outputs": [
    {
     "data": {
      "text/plain": [
       "40"
      ]
     },
     "execution_count": 32,
     "metadata": {},
     "output_type": "execute_result"
    }
   ],
   "source": [
    "len(t_list)   #printing length of the list or number of element present inside the list\n"
   ]
  },
  {
   "cell_type": "code",
   "execution_count": null,
   "id": "00fddeaa",
   "metadata": {},
   "outputs": [],
   "source": []
  },
  {
   "cell_type": "code",
   "execution_count": null,
   "id": "094c7c82",
   "metadata": {},
   "outputs": [],
   "source": []
  }
 ],
 "metadata": {
  "kernelspec": {
   "display_name": "Python 3 (ipykernel)",
   "language": "python",
   "name": "python3"
  },
  "language_info": {
   "codemirror_mode": {
    "name": "ipython",
    "version": 3
   },
   "file_extension": ".py",
   "mimetype": "text/x-python",
   "name": "python",
   "nbconvert_exporter": "python",
   "pygments_lexer": "ipython3",
   "version": "3.9.7"
  }
 },
 "nbformat": 4,
 "nbformat_minor": 5
}
